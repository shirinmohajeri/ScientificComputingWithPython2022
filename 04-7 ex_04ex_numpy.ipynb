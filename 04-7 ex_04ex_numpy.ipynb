from pylab import *
u = 2 * randint(0, 2, size=(1000, 200))-1
print(u)
walking_distance = u.sum(1)
print("\n Walking distance for each walker:\n", u.sum(1))
walking_distances_square = np.square(walking_distance)
print("\n", walking_distances_square)
mean_distance_square = []
mean = 0
for i in walking_distances_square:
    mean += i
    mean_distance_square.append(np.mean(mean))
print("Mean:\n" , mean_distance_square)
distances = np.sqrt(walking_distances_square)
m = np.arange(0, len(distances))
plt.plot(m, distances)
plt.show()