import timeit

def SieveOfEratosthenes(n):
    prime = [True for i in range(n + 1)]
    p = 2
    while (p * p <= n):
        if (prime[p] == True):   
            for i in range(p ** 2, n + 1, p):
                prime[i] = False
        p += 1
    prime[0]= False
    prime[1]= False
    for p in range(n + 1):
        if prime[p]:
            print (p) 
            
#The performance of the program decreases when N increases and the time increases.
starttime = timeit.default_timer()
SieveOfEratosthenes(1000)
print("The time is:", timeit.default_timer() - starttime)