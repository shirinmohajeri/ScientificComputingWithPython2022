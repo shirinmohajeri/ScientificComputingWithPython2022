import csv  
import json 
data = json.load(open('user_data.json'))
array1 = []

header = ["CreditCardType","ID","JobTitle","EmailAddress","FirstNameLastName","CreditCard"]

for i in range (len(data)):
    if data[i]["CreditCardType"] == "American Express":
        print("The User with Credit Type:{}, ID:{}, Job Title:{}, email adress:{},Name:{},Credit Card:{} .".format(data[i]["CreditCardType"],data[i]["ID"],data[i]["JobTitle"],data[i]["EmailAddress"],data[i]["FirstNameLastName"],data[i]["CreditCard"]))
        array = [data[i]["CreditCardType"],data[i]["ID"],data[i]["JobTitle"],data[i]["EmailAddress"],data[i]["FirstNameLastName"],data[i]["CreditCard"]]
        array1.append(array)
        array1.append("\n")

with open('new_user_data.csv', 'w', encoding='UTF8') as f:
    writer = csv.writer(f)
    writer.writerow(header)
    writer.writerow(array1)
