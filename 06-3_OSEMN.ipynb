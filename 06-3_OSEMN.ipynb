import json
data = pd.read_csv("mushrooms_categorized.csv") 
gk = data.groupby('class')
class0 = gk.get_group(0)   
mean_class0 = class0.mean()
print("Mean values for the class 0:\n",mean_class0,"\n")
mean_class1_json0 = mean_class0.to_json()
#save the file as json
jsonString0 = json.dumps(mean_class1_json0)
jsonFile0 = open("mean_class0_json1.json", "w")
jsonFile0.write(jsonString0)
jsonFile0.close()

class1 = gk.get_group(1)   
mean_class1 = class1.mean()
print("Mean values for the class 1:\n",mean_class1)         
mean_class1_json1 = mean_class1.to_json()
#save the file as json
jsonString = json.dumps(mean_class1_json1)
jsonFile = open("mean_class1_json1.json", "w")
jsonFile.write(jsonString)
jsonFile.close()