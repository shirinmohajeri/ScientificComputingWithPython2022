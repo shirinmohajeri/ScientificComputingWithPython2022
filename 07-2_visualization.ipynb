from IPython.display import Image
Image('images/two_categories_scatter_plot.png')