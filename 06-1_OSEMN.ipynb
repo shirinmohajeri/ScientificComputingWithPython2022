import pandas as pd
import numpy as np
#create a list of int:
a_list = [1,2,3,4,5,6]
print(type(a_list[0]))
with open('data_int.txt', 'w') as f:
    for item in a_list:
        f.write("%s " % item)
!cat data_int.txt

#create a matrix of 5x5 floats:
x = np.random.random((5,5))
mat = np.matrix(x)
with open('data_float.txt','wb') as f:
    for line in mat:
        np.savetxt(f, line, fmt='%.2f')
        
#windows version of cat -- type
!cat data_float.txt     

#load the txt file of the previous point:
import csv
import zlib

with open('data_float.txt', 'r') as in_file:
    lines = in_file.read().splitlines()
    stripped = [line.replace(","," ").split() for line in lines]
    grouped = zip(*[stripped]*1)
    with open('data_float.csv', 'w') as out_file:
        writer = csv.writer(out_file)
        for group in grouped:
            writer.writerows(group)