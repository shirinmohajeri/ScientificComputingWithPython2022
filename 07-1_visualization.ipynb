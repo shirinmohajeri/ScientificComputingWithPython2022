import pandas as pd
import matplotlib.pyplot as plt
file_name = "regression_generated.csv"
data = pd.read_csv(file_name)
x = data['features_1']
y = data['features_2']
z = data['features_3']
fig, (ax1, ax2 , ax3) = plt.subplots(nrows=3, ncols=1, figsize=(12,36))
ax1.scatter(x=x, y=y, marker='o', c='c', edgecolor='b')
ax2.scatter(x=x, y=z, marker='o', c='r', edgecolor='k')
ax3.scatter(x=y, y=z, marker='o', c='g', edgecolor='k')
ax1.set_xlabel("Features_1")
ax1.set_ylabel("Features_2")
ax2.set_xlabel("Features_1")
ax2.set_ylabel("Features_3")
ax3.set_xlabel("Features_2")
ax3.set_ylabel("Features_3")