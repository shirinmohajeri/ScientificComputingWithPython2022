from IPython.display import Image
Image("images/data_format.png")