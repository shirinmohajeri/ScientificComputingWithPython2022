import pandas as pd   
import numpy as np
from scipy import stats
import matplotlib.pyplot as plt
import seaborn as sns
#load the data into dataframe and conver it to pandas dataframe
data=np.load("residuals_261.pkl",allow_pickle=True).item()
data=pd.DataFrame(data)

x = data.residuals
y = data.distances

data.drop( data[abs(data['residuals']) < 2 ].index , inplace=True)
data=data[abs(data['residuals'])>2] 

sns.jointplot(x="residuals", y="distances", data=data)
# Inspection of the dataset
print(data)
print(data.info())



#Perform the linear regression: and seaborn to display a linear regression.
slope, intercept, r_value, p_value, stderr = stats.linregress(x, y)
print("slope =",slope," intercept =",intercept," r_value =",r_value," p_value =",p_value," stderr =",stderr)
sns.jointplot(data=data, x="residuals", y="distances", kind="reg")

# binning of distances
dis_array=np.array(data.distances)
bins=[0,5,10,15,20]
dis_bin=np.histogram(dis_array,bins = bins ) 
print(dis_bin)
binned_data=pd.cut(dis_array,bins)
print(binned_data)

#mean and standard deviation of residuals according to bins of distances
mean_std=data.groupby(pd.cut(data['distances'], bins=bins))['residuals'].agg(['mean','std'])
print(mean_std)



#Create manually (without using seaborn) the profile histogram for the "distance" variable
fig = plt.figure(figsize=(10, 6))
ax = fig.add_axes([0.1, 0.1, 0.65, 0.65])
ax_histx = fig.add_axes([0.1, 0.8, 0.65, 0.2], sharex=ax)
ax_histx.set_title('Histogram')
ax.scatter(data['distances'],data['residuals'])
h,bins,_ = ax_histx.hist(data['distances'],bins = 25)
x = 0.5*(bins[1:]+bins[:-1])
y = np.zeros(len(bins))
err_y = np.zeros(len(bins))
for i in range(0,len(x)-1):
    mask_i = (data['distances']>x[i]) & (data['distances']<x[i+1])
    y[i] = np.mean(data[mask_i].residuals)
    err_y[i] = np.std(data[mask_i].residuals)
plt.show()
print("x: ",x)
print("y: ",y)
print("err_y:", err_y)